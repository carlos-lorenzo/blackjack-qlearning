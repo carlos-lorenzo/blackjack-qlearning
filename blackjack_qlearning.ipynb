{
 "cells": [
  {
   "cell_type": "code",
   "execution_count": 1,
   "metadata": {},
   "outputs": [],
   "source": [
    "from dataclasses import dataclass, field\n",
    "from typing import List, Dict, Tuple\n",
    "from enum import Enum\n",
    "from copy import deepcopy\n",
    "\n",
    "import numpy as np\n",
    "import matplotlib.pyplot as plt\n",
    "\n",
    "import blackjack"
   ]
  },
  {
   "cell_type": "code",
   "execution_count": 2,
   "metadata": {},
   "outputs": [],
   "source": [
    "%matplotlib inline  "
   ]
  },
  {
   "cell_type": "code",
   "execution_count": 8,
   "metadata": {},
   "outputs": [],
   "source": [
    "@dataclass\n",
    "class State:\n",
    "    hand_total: int\n",
    "    dealer_total: int\n",
    "    #usable_ace: bool\n",
    "    \n",
    "    def __hash__(self) -> int:\n",
    "        return hash((self.hand_total, self.dealer_total))"
   ]
  },
  {
   "cell_type": "code",
   "execution_count": 4,
   "metadata": {},
   "outputs": [],
   "source": [
    "@dataclass\n",
    "class QTable:\n",
    "    q_table: Dict[State, List[float]] = field(default_factory=dict)\n",
    "    \n",
    "    def __post_init__(self) -> None:\n",
    "        possible_player_totals = np.arange(2, 22)\n",
    "    \n",
    "    def __getitem__(self, state: State) -> List[float]:\n",
    "        if state.hand_total > 21:\n",
    "            return\n",
    "        return self.q_table[state]\n",
    "    \n",
    "    def __setitem__(self, state: State, value: List[float]):\n",
    "        if state.hand_total > 21:\n",
    "            return\n",
    "        self.q_table[state] = value\n",
    "        \n",
    "    def policy(self, state: State) -> int:\n",
    "        if state.hand_total >= 21:\n",
    "            return 1\n",
    "        return np.argmax(self.q_table[state])"
   ]
  },
  {
   "cell_type": "code",
   "execution_count": 5,
   "metadata": {},
   "outputs": [],
   "source": [
    "class Agent:\n",
    "    def __init__(self, learning_rate: float = 0.1, discount_factor: float = 0.9, epsilon_greedy: float = 0.1, training_epochs: int = 1000) -> None:\n",
    "        self.learning_rate = learning_rate\n",
    "        self.discount_factor = discount_factor\n",
    "        self.epsilon_greedy = epsilon_greedy\n",
    "        self.training_epochs = training_epochs\n",
    "        self.current_epoch = 0\n",
    "        \n",
    "        self.q_table = QTable()\n",
    "        \n",
    "        self.deck = blackjack.Deck()\n",
    "        self.dealer = blackjack.Dealer()\n",
    "        self.player = blackjack.Player()    \n",
    "        \n",
    "        self.state = State(0, 0)\n",
    "        \n",
    "    def action(self, state: State) -> int:\n",
    "        if np.random.random() < self.epsilon_greedy:\n",
    "            return np.random.choice([0, 1])\n",
    "        else:\n",
    "            return self.q_table.policy(state)\n",
    "    \n",
    "    \n",
    "    def start_turn(self) -> None:\n",
    "        self.deck.reset()\n",
    "        self.player.clear_hand()\n",
    "        self.dealer.clear_hand()\n",
    "        \n",
    "        self.player.hit(self.deck)\n",
    "        self.player.hit(self.deck)\n",
    "        self.dealer.hit(self.deck)\n",
    "        self.dealer.hit(self.deck)\n",
    "        \n",
    "    def play(self):\n",
    "        self.start_turn()\n",
    "        self.dealer.play(self.deck)\n",
    "        self.state = State(self.player.hand.total, self.dealer.hand.total)\n",
    "        \n",
    "        while self.player.playing:\n",
    "            action = self.action(self.state)\n",
    "            self.player.play(action, self.deck)\n",
    "            self.state.hand_total = self.player.hand.total\n",
    "    \n",
    "        print(self.player.actions_taken)\n",
    "        \n",
    "        \n",
    "        "
   ]
  },
  {
   "cell_type": "code",
   "execution_count": 6,
   "metadata": {},
   "outputs": [],
   "source": [
    "agent = Agent(\n",
    "    learning_rate=0.1,\n",
    "    discount_factor=0.9,\n",
    "    epsilon_greedy=0.1,\n",
    "    training_epochs=1000\n",
    ")"
   ]
  },
  {
   "cell_type": "code",
   "execution_count": 7,
   "metadata": {},
   "outputs": [
    {
     "ename": "TypeError",
     "evalue": "unhashable type: 'State'",
     "output_type": "error",
     "traceback": [
      "\u001b[1;31m---------------------------------------------------------------------------\u001b[0m",
      "\u001b[1;31mTypeError\u001b[0m                                 Traceback (most recent call last)",
      "Cell \u001b[1;32mIn[7], line 1\u001b[0m\n\u001b[1;32m----> 1\u001b[0m \u001b[43magent\u001b[49m\u001b[38;5;241;43m.\u001b[39;49m\u001b[43mplay\u001b[49m\u001b[43m(\u001b[49m\u001b[43m)\u001b[49m\n",
      "Cell \u001b[1;32mIn[5], line 40\u001b[0m, in \u001b[0;36mAgent.play\u001b[1;34m(self)\u001b[0m\n\u001b[0;32m     37\u001b[0m \u001b[38;5;28mself\u001b[39m\u001b[38;5;241m.\u001b[39mstate \u001b[38;5;241m=\u001b[39m State(\u001b[38;5;28mself\u001b[39m\u001b[38;5;241m.\u001b[39mplayer\u001b[38;5;241m.\u001b[39mhand\u001b[38;5;241m.\u001b[39mtotal, \u001b[38;5;28mself\u001b[39m\u001b[38;5;241m.\u001b[39mdealer\u001b[38;5;241m.\u001b[39mhand\u001b[38;5;241m.\u001b[39mtotal)\n\u001b[0;32m     39\u001b[0m \u001b[38;5;28;01mwhile\u001b[39;00m \u001b[38;5;28mself\u001b[39m\u001b[38;5;241m.\u001b[39mplayer\u001b[38;5;241m.\u001b[39mplaying:\n\u001b[1;32m---> 40\u001b[0m     action \u001b[38;5;241m=\u001b[39m \u001b[38;5;28;43mself\u001b[39;49m\u001b[38;5;241;43m.\u001b[39;49m\u001b[43maction\u001b[49m\u001b[43m(\u001b[49m\u001b[38;5;28;43mself\u001b[39;49m\u001b[38;5;241;43m.\u001b[39;49m\u001b[43mstate\u001b[49m\u001b[43m)\u001b[49m\n\u001b[0;32m     41\u001b[0m     \u001b[38;5;28mself\u001b[39m\u001b[38;5;241m.\u001b[39mplayer\u001b[38;5;241m.\u001b[39mplay(action, \u001b[38;5;28mself\u001b[39m\u001b[38;5;241m.\u001b[39mdeck)\n\u001b[0;32m     42\u001b[0m     \u001b[38;5;28mself\u001b[39m\u001b[38;5;241m.\u001b[39mstate\u001b[38;5;241m.\u001b[39mhand_total \u001b[38;5;241m=\u001b[39m \u001b[38;5;28mself\u001b[39m\u001b[38;5;241m.\u001b[39mplayer\u001b[38;5;241m.\u001b[39mhand\u001b[38;5;241m.\u001b[39mtotal\n",
      "Cell \u001b[1;32mIn[5], line 21\u001b[0m, in \u001b[0;36mAgent.action\u001b[1;34m(self, state)\u001b[0m\n\u001b[0;32m     19\u001b[0m     \u001b[38;5;28;01mreturn\u001b[39;00m np\u001b[38;5;241m.\u001b[39mrandom\u001b[38;5;241m.\u001b[39mchoice([\u001b[38;5;241m0\u001b[39m, \u001b[38;5;241m1\u001b[39m])\n\u001b[0;32m     20\u001b[0m \u001b[38;5;28;01melse\u001b[39;00m:\n\u001b[1;32m---> 21\u001b[0m     \u001b[38;5;28;01mreturn\u001b[39;00m \u001b[38;5;28;43mself\u001b[39;49m\u001b[38;5;241;43m.\u001b[39;49m\u001b[43mq_table\u001b[49m\u001b[38;5;241;43m.\u001b[39;49m\u001b[43mpolicy\u001b[49m\u001b[43m(\u001b[49m\u001b[43mstate\u001b[49m\u001b[43m)\u001b[49m\n",
      "Cell \u001b[1;32mIn[4], line 18\u001b[0m, in \u001b[0;36mQTable.policy\u001b[1;34m(self, state)\u001b[0m\n\u001b[0;32m     16\u001b[0m \u001b[38;5;28;01mif\u001b[39;00m state\u001b[38;5;241m.\u001b[39mhand_total \u001b[38;5;241m>\u001b[39m\u001b[38;5;241m=\u001b[39m \u001b[38;5;241m21\u001b[39m:\n\u001b[0;32m     17\u001b[0m     \u001b[38;5;28;01mreturn\u001b[39;00m \u001b[38;5;241m1\u001b[39m\n\u001b[1;32m---> 18\u001b[0m \u001b[38;5;28;01mreturn\u001b[39;00m np\u001b[38;5;241m.\u001b[39margmax(\u001b[38;5;28;43mself\u001b[39;49m\u001b[38;5;241;43m.\u001b[39;49m\u001b[43mq_table\u001b[49m\u001b[43m[\u001b[49m\u001b[43mstate\u001b[49m\u001b[43m]\u001b[49m)\n",
      "\u001b[1;31mTypeError\u001b[0m: unhashable type: 'State'"
     ]
    }
   ],
   "source": [
    "agent.play()"
   ]
  }
 ],
 "metadata": {
  "kernelspec": {
   "display_name": "p312",
   "language": "python",
   "name": "python3"
  },
  "language_info": {
   "codemirror_mode": {
    "name": "ipython",
    "version": 3
   },
   "file_extension": ".py",
   "mimetype": "text/x-python",
   "name": "python",
   "nbconvert_exporter": "python",
   "pygments_lexer": "ipython3",
   "version": "3.12.0"
  }
 },
 "nbformat": 4,
 "nbformat_minor": 2
}
