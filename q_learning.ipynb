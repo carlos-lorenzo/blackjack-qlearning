{
 "cells": [
  {
   "cell_type": "code",
   "execution_count": 1,
   "metadata": {},
   "outputs": [],
   "source": [
    "from dataclasses import dataclass, field\n",
    "from typing import List, Dict, Tuple\n",
    "from enum import Enum\n",
    "from copy import deepcopy\n",
    "\n",
    "import numpy as np\n",
    "\n",
    "import blackjack"
   ]
  },
  {
   "cell_type": "code",
   "execution_count": 2,
   "metadata": {},
   "outputs": [],
   "source": [
    "@dataclass\n",
    "class State:\n",
    "    hand_total: int\n",
    "    delear_partial_total: int\n",
    "    \n",
    "    def __hash__(self) -> int:\n",
    "        return hash((self.hand_total, self.delear_partial_total))"
   ]
  },
  {
   "cell_type": "code",
   "execution_count": 3,
   "metadata": {},
   "outputs": [],
   "source": [
    "class Action(Enum):\n",
    "    HIT = 0\n",
    "    STAND = 1"
   ]
  },
  {
   "cell_type": "code",
   "execution_count": 4,
   "metadata": {},
   "outputs": [],
   "source": [
    "@dataclass\n",
    "class QTable:\n",
    "    table: Dict[State, List[float]] = field(default_factory=dict)\n",
    "    \n",
    "    def __post_init__(self) -> None:\n",
    "        possible_actions = [Action.HIT, Action.STAND]\n",
    "        possible_dealer_visible_totals = list(range(1, 12)) # Between 1 and 11\n",
    "        possible_hand_totals = list(range(2, 23)) # If hand_total > 21, then it is 22 in the q table, no matter how bigger than 21 it is (not that it will do anything since the game will be automatically ended)\n",
    "        \n",
    "        for total in possible_hand_totals:\n",
    "            for dealer_total in possible_dealer_visible_totals:\n",
    "                state = State(total, dealer_total)\n",
    "                self.table[state] = [0.0] * len(possible_actions)\n",
    "    \n",
    "    \n",
    "    def __getitem__(self, state: State) -> List[float]:\n",
    "        if state.hand_total > 21:\n",
    "            state.hand_total = 22\n",
    "        return self.table[state]\n",
    "    \n",
    "    def __setitem__(self, state: State, value: List[float]):\n",
    "        if state.hand_total > 21:\n",
    "            state.hand_total = 22\n",
    "        self.table[state] = value\n",
    "                \n",
    "    def policy(self, state: State, epsilon: float = None) -> Action:\n",
    "        if epsilon:\n",
    "            if np.random.random() < epsilon:\n",
    "                return Action(np.random.choice([0, 1]))\n",
    "        return Action(np.argmax(self.table[state]))"
   ]
  },
  {
   "cell_type": "code",
   "execution_count": 5,
   "metadata": {},
   "outputs": [],
   "source": [
    "class Agent:\n",
    "    def __init__(self, learning_rate: float = 0.1, discount_factor: float = 0.99, epsilon_greedy: float = 0.1, epochs: int = 1000) -> None:\n",
    "        self.learning_rate = learning_rate\n",
    "        self.discount_factor = discount_factor\n",
    "        self.epsilon_greedy = epsilon_greedy\n",
    "        self.epochs = epochs\n",
    "        self.q_table = QTable()\n",
    "        self.table = blackjack.Table()\n",
    "        self.states: List[State] = [State(-1, -1)]\n",
    "        self.episodes: List[List[Dict[str, State | Action | float]]] = []\n",
    "    \n",
    "    \n",
    "    def reward_win_loss(self, player_total: int, dealer_total: int) -> float:\n",
    "        if player_total > 21:\n",
    "            return -1\n",
    "        elif player_total > dealer_total:\n",
    "            return 1\n",
    "        elif player_total == dealer_total:\n",
    "            return 0\n",
    "        else:\n",
    "            return -1\n",
    "        \n",
    "    def reward_proximity(self, player_total: int, dealer_total: int) -> float:\n",
    "        player_total = player_total if player_total < 22 else 0\n",
    "        return 1 / (21 - player_total + 1e-1)\n",
    "                      \n",
    "    \n",
    "    def play_hand(self, player: blackjack.Player, current_episode: List[Dict[str, State | Action | float]] = []) -> None:\n",
    "        if not player.playing:\n",
    "            for i, episode in enumerate(current_episode):\n",
    "                state = episode[\"state\"]\n",
    "                reward = self.reward_win_loss(state.hand_total, self.table.dealer.total)\n",
    "                current_episode[i][\"reward\"] = reward\n",
    "            return current_episode\n",
    "        \n",
    "        action = self.q_table.policy(State(player.hand.possible_totals[0], self.table.dealer.partial_total), self.epsilon_greedy)\n",
    "        if action == Action.HIT:\n",
    "            \n",
    "            current_episode.append({\n",
    "                \"state\": State(player.hand.possible_totals[0], self.table.dealer.partial_total),\n",
    "                \"action\": action,\n",
    "                \"reward\": 0\n",
    "            })\n",
    "            \n",
    "            player.hit(self.table.deck)\n",
    "            \n",
    "        else:   \n",
    "            current_episode.append({\n",
    "                \"state\": State(player.hand.possible_totals[0], self.table.dealer.partial_total),\n",
    "                \"action\": action,\n",
    "                \"reward\": 0\n",
    "            })\n",
    "            player.stand()\n",
    "        \n",
    "        return self.play_hand(player, current_episode)\n",
    "    \n",
    "    def play_hand_possible(self, players: blackjack.RecursivePlayer = [], current_episode: List[Dict[str, State | Action | float]] = [], model_player: blackjack.Player = None) -> None:\n",
    "        if len(players) == 0:\n",
    "            players = [blackjack.RecursivePlayer(chosen_total, model_player.hand) for chosen_total in model_player.hand.possible_totals]\n",
    "            \n",
    "        print(players)\n",
    "        next_card = self.table.deck.draw()\n",
    "        for i, player in enumerate(players):\n",
    "            if not player.playing:\n",
    "                for j, episode in enumerate(current_episode):\n",
    "                    state = episode[\"state\"]\n",
    "                    reward = self.reward_win_loss(state.hand_total, self.table.dealer.total)\n",
    "                    current_episode[j][\"reward\"] = reward\n",
    "                return current_episode\n",
    "            \n",
    "            action = self.q_table.policy(State(player.hand.possible_totals[0], self.table.dealer.partial_total), self.epsilon_greedy)\n",
    "            if action == Action.HIT:  \n",
    "                current_episode.append({\n",
    "                    \"state\": State(player.chosen_total, self.table.dealer.partial_total),\n",
    "                    \"action\": action,\n",
    "                    \"reward\": 0\n",
    "                })\n",
    "                player.hand.add_card(next_card)\n",
    "            else:   \n",
    "                current_episode.append({\n",
    "                    \"state\": State(player.chosen_total, self.table.dealer.partial_total),\n",
    "                    \"action\": action,\n",
    "                    \"reward\": 0\n",
    "                })\n",
    "                player.stand()\n",
    "                \n",
    "        return self.play_hand_possible(players, current_episode)\n",
    "        \n",
    "        \n",
    "\n",
    "            \n",
    "    \n",
    "        "
   ]
  },
  {
   "cell_type": "code",
   "execution_count": 6,
   "metadata": {},
   "outputs": [],
   "source": [
    "agent = Agent(\n",
    "    learning_rate=0.1,\n",
    "    discount_factor=0.99,\n",
    "    epsilon_greedy=0.9,\n",
    "    epochs=1000\n",
    ")"
   ]
  },
  {
   "cell_type": "code",
   "execution_count": 7,
   "metadata": {},
   "outputs": [
    {
     "name": "stdout",
     "output_type": "stream",
     "text": [
      "[<blackjack.players.RecursivePlayer object at 0x0000020E941B2B10>]\n",
      "[<blackjack.players.RecursivePlayer object at 0x0000020E941B2B10>]\n"
     ]
    },
    {
     "data": {
      "text/plain": [
       "[{'state': State(hand_total=19, delear_partial_total=3),\n",
       "  'action': <Action.STAND: 1>,\n",
       "  'reward': -1}]"
      ]
     },
     "execution_count": 7,
     "metadata": {},
     "output_type": "execute_result"
    }
   ],
   "source": [
    "player = blackjack.Player()\n",
    "agent.table = blackjack.Table()\n",
    "agent.table.add_player(player)\n",
    "agent.table.start_turn()\n",
    "agent.table.dealer.play(agent.table.deck)\n",
    "\n",
    "episodes = agent.play_hand_possible(model_player=player, current_episode=[])\n",
    "episodes"
   ]
  }
 ],
 "metadata": {
  "kernelspec": {
   "display_name": "p312",
   "language": "python",
   "name": "python3"
  },
  "language_info": {
   "codemirror_mode": {
    "name": "ipython",
    "version": 3
   },
   "file_extension": ".py",
   "mimetype": "text/x-python",
   "name": "python",
   "nbconvert_exporter": "python",
   "pygments_lexer": "ipython3",
   "version": "3.12.0"
  }
 },
 "nbformat": 4,
 "nbformat_minor": 2
}
